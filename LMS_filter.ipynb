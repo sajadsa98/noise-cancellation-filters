{
 "cells": [
  {
   "cell_type": "code",
   "execution_count": null,
   "id": "5a500840",
   "metadata": {},
   "outputs": [],
   "source": [
    "import numpy as np\n",
    "\n",
    "# LMS Filter Configuration\n",
    "filter_length = 8  \n",
    "learning_rate = 0.016  \n",
    "filter_weights = np.zeros(filter_length)\n",
    "noise_buffer = np.zeros(filter_length)\n",
    "\n",
    "def lms_filter_sample(reference_noise, noisy_signal):\n",
    "    \"\"\"\n",
    "    Apply LMS filter to a single sample.\n",
    "    \n",
    "    Args:\n",
    "        reference_noise: Reference noise sample\n",
    "        noisy_signal: Noisy input signal sample\n",
    "    \n",
    "    Returns:\n",
    "        tuple: (estimated_noise, estimated_clean_signal)\n",
    "    \"\"\"\n",
    "    global filter_weights, noise_buffer, learning_rate\n",
    "\n",
    "    # Update buffer with new reference noise sample\n",
    "    noise_buffer[1:] = noise_buffer[:-1]\n",
    "    noise_buffer[0] = reference_noise\n",
    "\n",
    "    # Estimate noise using current filter weights\n",
    "    estimated_noise = np.dot(filter_weights, noise_buffer)\n",
    "\n",
    "    # Estimate clean signal\n",
    "    estimated_clean = noisy_signal - estimated_noise\n",
    "\n",
    "    # Update filter weights using LMS algorithm\n",
    "    filter_weights += learning_rate * estimated_clean * noise_buffer\n",
    "\n",
    "    return estimated_noise, estimated_clean"
   ]
  }
 ],
 "metadata": {
  "language_info": {
   "name": "python"
  }
 },
 "nbformat": 4,
 "nbformat_minor": 5
}
